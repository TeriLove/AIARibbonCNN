{
  "nbformat": 4,
  "nbformat_minor": 0,
  "metadata": {
    "colab": {
      "name": "CNN_k-fold.ipynb",
      "provenance": [],
      "collapsed_sections": []
    },
    "kernelspec": {
      "name": "python3",
      "display_name": "Python 3"
    }
  },
  "cells": [
    {
      "cell_type": "code",
      "metadata": {
        "id": "83uZFb6Xq0up",
        "colab_type": "code",
        "colab": {
          "base_uri": "https://localhost:8080/",
          "height": 496
        },
        "outputId": "f51886e2-c7ac-47a2-cca2-d1904faca302"
      },
      "source": [
        "!pip install sunpy"
      ],
      "execution_count": 3,
      "outputs": [
        {
          "output_type": "stream",
          "text": [
            "Requirement already satisfied: sunpy in /usr/local/lib/python3.6/dist-packages (1.1.3)\n",
            "Requirement already satisfied: astropy>=3.1 in /usr/local/lib/python3.6/dist-packages (from sunpy) (4.0.1.post1)\n",
            "Requirement already satisfied: pandas in /usr/local/lib/python3.6/dist-packages (from sunpy) (1.0.3)\n",
            "Requirement already satisfied: parfive[ftp]>=1.0.2 in /usr/local/lib/python3.6/dist-packages (from sunpy) (1.1.0)\n",
            "Requirement already satisfied: importlib-resources; python_version < \"3.7\" in /usr/local/lib/python3.6/dist-packages (from sunpy) (1.5.0)\n",
            "Requirement already satisfied: matplotlib>=1.3 in /usr/local/lib/python3.6/dist-packages (from sunpy) (3.2.1)\n",
            "Requirement already satisfied: numpy>=1.14.5 in /usr/local/lib/python3.6/dist-packages (from sunpy) (1.18.4)\n",
            "Requirement already satisfied: scipy in /usr/local/lib/python3.6/dist-packages (from sunpy) (1.4.1)\n",
            "Requirement already satisfied: pytz>=2017.2 in /usr/local/lib/python3.6/dist-packages (from pandas->sunpy) (2018.9)\n",
            "Requirement already satisfied: python-dateutil>=2.6.1 in /usr/local/lib/python3.6/dist-packages (from pandas->sunpy) (2.8.1)\n",
            "Requirement already satisfied: tqdm in /usr/local/lib/python3.6/dist-packages (from parfive[ftp]>=1.0.2->sunpy) (4.41.1)\n",
            "Requirement already satisfied: aiohttp in /usr/local/lib/python3.6/dist-packages (from parfive[ftp]>=1.0.2->sunpy) (3.6.2)\n",
            "Requirement already satisfied: aioftp; extra == \"ftp\" in /usr/local/lib/python3.6/dist-packages (from parfive[ftp]>=1.0.2->sunpy) (0.16.0)\n",
            "Requirement already satisfied: zipp>=0.4; python_version < \"3.8\" in /usr/local/lib/python3.6/dist-packages (from importlib-resources; python_version < \"3.7\"->sunpy) (3.1.0)\n",
            "Requirement already satisfied: importlib-metadata; python_version < \"3.8\" in /usr/local/lib/python3.6/dist-packages (from importlib-resources; python_version < \"3.7\"->sunpy) (1.6.0)\n",
            "Requirement already satisfied: pyparsing!=2.0.4,!=2.1.2,!=2.1.6,>=2.0.1 in /usr/local/lib/python3.6/dist-packages (from matplotlib>=1.3->sunpy) (2.4.7)\n",
            "Requirement already satisfied: kiwisolver>=1.0.1 in /usr/local/lib/python3.6/dist-packages (from matplotlib>=1.3->sunpy) (1.2.0)\n",
            "Requirement already satisfied: cycler>=0.10 in /usr/local/lib/python3.6/dist-packages (from matplotlib>=1.3->sunpy) (0.10.0)\n",
            "Requirement already satisfied: six>=1.5 in /usr/local/lib/python3.6/dist-packages (from python-dateutil>=2.6.1->pandas->sunpy) (1.12.0)\n",
            "Requirement already satisfied: idna-ssl>=1.0; python_version < \"3.7\" in /usr/local/lib/python3.6/dist-packages (from aiohttp->parfive[ftp]>=1.0.2->sunpy) (1.1.0)\n",
            "Requirement already satisfied: async-timeout<4.0,>=3.0 in /usr/local/lib/python3.6/dist-packages (from aiohttp->parfive[ftp]>=1.0.2->sunpy) (3.0.1)\n",
            "Requirement already satisfied: attrs>=17.3.0 in /usr/local/lib/python3.6/dist-packages (from aiohttp->parfive[ftp]>=1.0.2->sunpy) (19.3.0)\n",
            "Requirement already satisfied: yarl<2.0,>=1.0 in /usr/local/lib/python3.6/dist-packages (from aiohttp->parfive[ftp]>=1.0.2->sunpy) (1.4.2)\n",
            "Requirement already satisfied: multidict<5.0,>=4.5 in /usr/local/lib/python3.6/dist-packages (from aiohttp->parfive[ftp]>=1.0.2->sunpy) (4.7.6)\n",
            "Requirement already satisfied: typing-extensions>=3.6.5; python_version < \"3.7\" in /usr/local/lib/python3.6/dist-packages (from aiohttp->parfive[ftp]>=1.0.2->sunpy) (3.6.6)\n",
            "Requirement already satisfied: chardet<4.0,>=2.0 in /usr/local/lib/python3.6/dist-packages (from aiohttp->parfive[ftp]>=1.0.2->sunpy) (3.0.4)\n",
            "Requirement already satisfied: idna>=2.0 in /usr/local/lib/python3.6/dist-packages (from idna-ssl>=1.0; python_version < \"3.7\"->aiohttp->parfive[ftp]>=1.0.2->sunpy) (2.9)\n"
          ],
          "name": "stdout"
        }
      ]
    },
    {
      "cell_type": "code",
      "metadata": {
        "id": "7Jj7Xu2Wq5Bh",
        "colab_type": "code",
        "colab": {}
      },
      "source": [
        "import numpy as np\n",
        "import pandas as pd\n",
        "import pickle\n",
        "import sunpy.map\n",
        "from sunpy.coordinates import frames\n",
        "from astropy.coordinates import SkyCoord\n",
        "import astropy.units as u\n",
        "from scipy.ndimage import zoom\n",
        "#import Network as net\n",
        "from keras.utils import to_categorical\n",
        "from sklearn.utils import shuffle\n",
        "import matplotlib.pyplot as plt\n",
        "from sklearn.model_selection import KFold\n",
        "from keras.models import Sequential, load_model\n",
        "from keras.layers import Convolution2D, MaxPooling2D, Flatten, Dense, Dropout\n",
        "from keras import optimizers"
      ],
      "execution_count": 0,
      "outputs": []
    },
    {
      "cell_type": "code",
      "metadata": {
        "id": "Xj6miZGGrQqE",
        "colab_type": "code",
        "colab": {}
      },
      "source": [
        "#Import data\n",
        "with open('output/cnndata/SimpleModel/z-score_model/fourclass/4class_data_model3.pickle','rb') as t:\n",
        "\t input_train, target_train, input_test, target_test = pickle.load(t)"
      ],
      "execution_count": 0,
      "outputs": []
    },
    {
      "cell_type": "code",
      "metadata": {
        "id": "ff6p8G28rso1",
        "colab_type": "code",
        "colab": {}
      },
      "source": [
        "# Model configuration\n",
        "batch_size = 32\n",
        "img_width, img_height, img_num_channels = 250, 250, 1\n",
        "no_classes = 4\n",
        "no_epochs = 10\n",
        "validation_split = 0.4\n",
        "verbosity = 1\n",
        "num_folds = 5\n",
        "input_shape = (img_width, img_height, img_num_channels)"
      ],
      "execution_count": 0,
      "outputs": []
    },
    {
      "cell_type": "code",
      "metadata": {
        "id": "pzc5yVF-ryGd",
        "colab_type": "code",
        "colab": {}
      },
      "source": [
        "# Define per-fold acc/loss lists\n",
        "acc_per_fold = []\n",
        "loss_per_fold = []\n",
        "\n",
        "#Define training set\n",
        "inputs = input_train\n",
        "targets = target_train"
      ],
      "execution_count": 0,
      "outputs": []
    },
    {
      "cell_type": "code",
      "metadata": {
        "id": "LPko-ETrsDw_",
        "colab_type": "code",
        "colab": {}
      },
      "source": [
        "# Define the K-fold Cross Validator\n",
        "kfold = KFold(n_splits=num_folds, shuffle=True)\n",
        "\n",
        "# K-fold Cross Validation model evaluation\n",
        "fold_no = 1\n",
        "histories = []\n",
        "for train, test in kfold.split(inputs, targets):  \n",
        "# Define the model architecture  \n",
        "\tmodel = Sequential()  \n",
        "\tmodel.add(Convolution2D(32, kernel_size=(3, 3), activation='relu', input_shape=input_shape))\n",
        "\tmodel.add(MaxPooling2D(pool_size=(2, 2)))  \n",
        "\tmodel.add(Convolution2D(64, kernel_size=(3, 3), activation='relu'))\n",
        "\tmodel.add(MaxPooling2D(pool_size=(2, 2)))\n",
        "\tmodel.add(Flatten())\n",
        "\tmodel.add(Dropout(0.5))\n",
        "\tmodel.add(Dense(128, activation='relu'))\n",
        "\tmodel.add(Dense(4, activation='softmax'))\n",
        "\tsgd = sgd_op(lr=0.001, clipval=0.5)\n",
        "\tmodel.compile(loss='categorical_crossentropy', optimizer=sgd, metrics=['accuracy'])\n",
        "\t# Fit data to model\n",
        "\thistory = model.fit(inputs[train], targets[train], batch_size=batch_size, epochs=no_epochs, verbose=verbosity, validation_split=validation_split)\n",
        "\thistories.append(history)\n",
        "\t# Generate generalization metrics\n",
        "\tscores = model.evaluate(inputs[test], targets[test], verbose=0)\n",
        "\tprint(f'Score for fold {fold_no}: {model.metrics_names[0]} of {scores[0]}; {model.metrics_names[1]} of {scores[1]*100}%')\n",
        "\tacc_per_fold.append(scores[1] * 100)\n",
        "\tloss_per_fold.append(scores[0])\n",
        "\t# Increase fold number\n",
        "\tfold_no = fold_no + 1\n",
        "\t# == Provide average scores ==\n",
        "\tprint('------------------------------')\n",
        "\tprint('Score per fold')\n",
        "for i in range(0, len(acc_per_fold)):\n",
        "\tprint('------------------------------')\n",
        "\tprint(f'> Fold {i+1} - Loss: {loss_per_fold[i]} - Accuracy: {acc_per_fold[i]}%')\n",
        "\tprint('------------------------------')\n",
        "print('Average scores for all folds:')\n",
        "print(f'> Accuracy: {np.mean(acc_per_fold)} (+- {np.std(acc_per_fold)})')\n",
        "print(f'> Loss: {np.mean(loss_per_fold)}')\n",
        "print('-------------------------------')"
      ],
      "execution_count": 0,
      "outputs": []
    }
  ]
}