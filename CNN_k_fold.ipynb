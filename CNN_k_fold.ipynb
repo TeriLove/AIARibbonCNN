{
 "cells": [
  {
   "cell_type": "code",
   "execution_count": null,
   "metadata": {
    "colab": {
     "base_uri": "https://localhost:8080/",
     "height": 496
    },
    "colab_type": "code",
    "id": "83uZFb6Xq0up",
    "outputId": "f51886e2-c7ac-47a2-cca2-d1904faca302"
   },
   "outputs": [],
   "source": [
    "!pip install sunpy"
   ]
  },
  {
   "cell_type": "code",
   "execution_count": null,
   "metadata": {
    "colab": {},
    "colab_type": "code",
    "collapsed": true,
    "id": "7Jj7Xu2Wq5Bh"
   },
   "outputs": [],
   "source": [
    "import numpy as np\n",
    "import pandas as pd\n",
    "import pickle\n",
    "import sunpy.map\n",
    "from sunpy.coordinates import frames\n",
    "from astropy.coordinates import SkyCoord\n",
    "import astropy.units as u\n",
    "from scipy.ndimage import zoom\n",
    "#import Network as net\n",
    "from keras.utils import to_categorical\n",
    "from sklearn.utils import shuffle\n",
    "import matplotlib.pyplot as plt\n",
    "from sklearn.model_selection import KFold\n",
    "from keras.models import Sequential, load_model\n",
    "from keras.layers import Convolution2D, MaxPooling2D, Flatten, Dense, Dropout\n",
    "from keras import optimizers"
   ]
  },
  {
   "cell_type": "code",
   "execution_count": null,
   "metadata": {
    "colab": {},
    "colab_type": "code",
    "collapsed": true,
    "id": "Xj6miZGGrQqE"
   },
   "outputs": [],
   "source": [
    "#Import data\n",
    "with open('output/cnndata/SimpleModel/z-score_model/fourclass/4class_data_model3.pickle','rb') as t:\n",
    "\t input_train, target_train, input_test, target_test = pickle.load(t)"
   ]
  },
  {
   "cell_type": "code",
   "execution_count": null,
   "metadata": {
    "colab": {},
    "colab_type": "code",
    "collapsed": true,
    "id": "ff6p8G28rso1"
   },
   "outputs": [],
   "source": [
    "# Model configuration\n",
    "batch_size = 32\n",
    "img_width, img_height, img_num_channels = 250, 250, 1\n",
    "no_classes = 4\n",
    "no_epochs = 10\n",
    "validation_split = 0.4\n",
    "verbosity = 1\n",
    "num_folds = 5\n",
    "input_shape = (img_width, img_height, img_num_channels)"
   ]
  },
  {
   "cell_type": "code",
   "execution_count": null,
   "metadata": {
    "colab": {},
    "colab_type": "code",
    "collapsed": true,
    "id": "pzc5yVF-ryGd"
   },
   "outputs": [],
   "source": [
    "# Define per-fold acc/loss lists\n",
    "acc_per_fold = []\n",
    "loss_per_fold = []\n",
    "\n",
    "#Define training set\n",
    "inputs = input_train\n",
    "targets = target_train"
   ]
  },
  {
   "cell_type": "code",
   "execution_count": null,
   "metadata": {
    "colab": {},
    "colab_type": "code",
    "collapsed": true,
    "id": "LPko-ETrsDw_"
   },
   "outputs": [],
   "source": [
    "# Define the K-fold Cross Validator\n",
    "kfold = KFold(n_splits=num_folds, shuffle=True)\n",
    "\n",
    "# K-fold Cross Validation model evaluation\n",
    "fold_no = 1\n",
    "histories = []\n",
    "for train, test in kfold.split(inputs, targets):  \n",
    "# Define the model architecture  \n",
    "\tmodel = Sequential()  \n",
    "\tmodel.add(Convolution2D(32, kernel_size=(3, 3), activation='relu', input_shape=input_shape))\n",
    "\tmodel.add(MaxPooling2D(pool_size=(2, 2)))  \n",
    "\tmodel.add(Convolution2D(64, kernel_size=(3, 3), activation='relu'))\n",
    "\tmodel.add(MaxPooling2D(pool_size=(2, 2)))\n",
    "\tmodel.add(Flatten())\n",
    "\tmodel.add(Dropout(0.5))\n",
    "\tmodel.add(Dense(128, activation='relu'))\n",
    "\tmodel.add(Dense(4, activation='softmax'))\n",
    "\tsgd = sgd_op(lr=0.001, clipval=0.5)\n",
    "\tmodel.compile(loss='categorical_crossentropy', optimizer=sgd, metrics=['accuracy'])\n",
    "\t# Fit data to model\n",
    "\thistory = model.fit(inputs[train], targets[train], batch_size=batch_size, epochs=no_epochs, verbose=verbosity, validation_split=validation_split)\n",
    "\thistories.append(history)\n",
    "\t# Generate generalization metrics\n",
    "\tscores = model.evaluate(inputs[test], targets[test], verbose=0)\n",
    "\tprint(f'Score for fold {fold_no}: {model.metrics_names[0]} of {scores[0]}; {model.metrics_names[1]} of {scores[1]*100}%')\n",
    "\tacc_per_fold.append(scores[1] * 100)\n",
    "\tloss_per_fold.append(scores[0])\n",
    "\t# Increase fold number\n",
    "\tfold_no = fold_no + 1\n",
    "\t# == Provide average scores ==\n",
    "\tprint('------------------------------')\n",
    "\tprint('Score per fold')\n",
    "for i in range(0, len(acc_per_fold)):\n",
    "\tprint('------------------------------')\n",
    "\tprint(f'> Fold {i+1} - Loss: {loss_per_fold[i]} - Accuracy: {acc_per_fold[i]}%')\n",
    "\tprint('------------------------------')\n",
    "print('Average scores for all folds:')\n",
    "print(f'> Accuracy: {np.mean(acc_per_fold)} (+- {np.std(acc_per_fold)})')\n",
    "print(f'> Loss: {np.mean(loss_per_fold)}')\n",
    "print('-------------------------------')"
   ]
  }
 ],
 "metadata": {
  "colab": {
   "collapsed_sections": [],
   "name": "CNN_k-fold.ipynb",
   "provenance": []
  },
  "kernelspec": {
   "display_name": "Python 3",
   "language": "python",
   "name": "python3"
  },
  "language_info": {
   "codemirror_mode": {
    "name": "ipython",
    "version": 3
   },
   "file_extension": ".py",
   "mimetype": "text/x-python",
   "name": "python",
   "nbconvert_exporter": "python",
   "pygments_lexer": "ipython3",
   "version": "3.6.3"
  }
 },
 "nbformat": 4,
 "nbformat_minor": 1
}
