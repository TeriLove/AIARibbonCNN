{
  "nbformat": 4,
  "nbformat_minor": 0,
  "metadata": {
    "colab": {
      "name": "CNN_k_fold.ipynb",
      "provenance": [],
      "collapsed_sections": []
    },
    "kernelspec": {
      "name": "python3",
      "display_name": "Python 3"
    }
  },
  "cells": [
    {
      "cell_type": "markdown",
      "metadata": {
        "id": "2EU2eYXohNR5",
        "colab_type": "text"
      },
      "source": [
        "## Ribbon CNN Training Notebook\n",
        "\n",
        "This notebook contains the code to train a simple CNN to classify different types of flare ribbons visible in 1600Å AIA (*Atmospheric Imaging Assembly*) images.\n",
        "\n",
        "To use this notebook the following packages are needed:\n",
        "\n",
        "(To train the network)\n",
        "1. numpy\n",
        "\n",
        "2. pickle (for reading in training data)\n",
        "\n",
        "3. keras\n",
        "\n",
        "4. scikit-learn\n",
        "\n",
        "(To create training/test plots)\n",
        "5. matplotlib\n",
        "\n",
        "6. pandas\n",
        "\n",
        "7. seaborn\n",
        "\n",
        "Note that with the training data included in *4class_data.pickle* a GPU is currently not needed to train this model, however if the amount of data is increased this would have to change. \n",
        "\n",
        "The parameters chosen (epochs, batch size etc) are selected to optimize the network performance that corresponds to the training set, again if the training set is altered these may also have to be modified.\n",
        "\n",
        "Note that in this notebook k-fold cross-validation has also been implemented (where k = 5), this is to ensure a more vigorus training of the model with varying validation sets used throughout training. For more information on cross validation please see [here](https://machinelearningmastery.com/k-fold-cross-validation/).\n"
      ]
    },
    {
      "cell_type": "code",
      "metadata": {
        "id": "7Jj7Xu2Wq5Bh",
        "colab_type": "code",
        "colab": {}
      },
      "source": [
        "#training packages\n",
        "import numpy as np\n",
        "import pickle\n",
        "from keras.utils import to_categorical\n",
        "from sklearn.utils import shuffle\n",
        "from sklearn.model_selection import KFold\n",
        "from keras.models import Sequential, load_model\n",
        "from keras.layers import Convolution2D, MaxPooling2D, Flatten, Dense, Dropout\n",
        "from keras import optimizers\n",
        "#plotting packages\n",
        "import seaborn as sn\n",
        "import pandas as pd\n",
        "import matplotlib.pyplot as plt\n",
        "from scipy import interp\n",
        "from itertools import cycle\n",
        "import sklearn\n"
      ],
      "execution_count": 0,
      "outputs": []
    },
    {
      "cell_type": "markdown",
      "metadata": {
        "id": "kq75hST_m9qE",
        "colab_type": "text"
      },
      "source": [
        "We will initially read in the training and test data, with the model parameters also defined."
      ]
    },
    {
      "cell_type": "code",
      "metadata": {
        "id": "Xj6miZGGrQqE",
        "colab_type": "code",
        "colab": {}
      },
      "source": [
        "#Import data\n",
        "with open('4class_data_training.pickle','rb') as t:\n",
        "\t input_train, target_train = pickle.load(t)\n",
        "\t\n",
        "with open('4class_data_test.pickle','rb') as t:\n",
        "\t input_test, target_test = pickle.load(t)"
      ],
      "execution_count": 0,
      "outputs": []
    },
    {
      "cell_type": "code",
      "metadata": {
        "id": "ff6p8G28rso1",
        "colab_type": "code",
        "colab": {}
      },
      "source": [
        "# Model configuration\n",
        "batch_size = 32\n",
        "img_width, img_height, img_num_channels = 250, 250, 1\n",
        "no_classes = 4\n",
        "no_epochs = 10\n",
        "validation_split = 0.4\n",
        "verbosity = 1\n",
        "num_folds = 5\n",
        "input_shape = (img_width, img_height, img_num_channels)"
      ],
      "execution_count": 0,
      "outputs": []
    },
    {
      "cell_type": "code",
      "metadata": {
        "id": "pzc5yVF-ryGd",
        "colab_type": "code",
        "colab": {}
      },
      "source": [
        "# Define per-fold acc/loss lists\n",
        "acc_per_fold = []\n",
        "loss_per_fold = []\n",
        "histories =[]\n",
        "model_history = []\n",
        "\n",
        "#Define training set\n",
        "inputs = input_train\n",
        "targets = target_train"
      ],
      "execution_count": 0,
      "outputs": []
    },
    {
      "cell_type": "markdown",
      "metadata": {
        "id": "RZvVGGA_ns8q",
        "colab_type": "text"
      },
      "source": [
        "K-fold cross-validation implemented below (the model code can be extracted from here is cross-validation is too computationally expensive)."
      ]
    },
    {
      "cell_type": "code",
      "metadata": {
        "id": "LPko-ETrsDw_",
        "colab_type": "code",
        "colab": {
          "base_uri": "https://localhost:8080/",
          "height": 1000
        },
        "outputId": "47996cc4-22a2-4126-b297-3f8b66214334"
      },
      "source": [
        "# Define the K-fold Cross Validator\n",
        "kfold = KFold(n_splits=num_folds, shuffle=True)\n",
        "\n",
        "# K-fold Cross Validation model evaluation\n",
        "fold_no = 1\n",
        "for train, test in kfold.split(inputs, targets):  \n",
        "# Define the model architecture  \n",
        "\tmodel = Sequential()  \n",
        "\tmodel.add(Convolution2D(32, kernel_size=(3, 3), activation='relu', input_shape=input_shape))\n",
        "\tmodel.add(MaxPooling2D(pool_size=(2, 2)))  \n",
        "\tmodel.add(Convolution2D(64, kernel_size=(3, 3), activation='relu'))\n",
        "\tmodel.add(MaxPooling2D(pool_size=(2, 2)))\n",
        "\tmodel.add(Flatten())\n",
        "\tmodel.add(Dropout(0.5))\n",
        "\tmodel.add(Dense(128, activation='relu'))\n",
        "\tmodel.add(Dense(4, activation='softmax'))\n",
        "\tsgd = optimizers.sgd(lr=0.001, clipvalue=0.5)\n",
        "\tmodel.compile(loss='categorical_crossentropy', optimizer=sgd, metrics=['accuracy'])\n",
        "\t# Fit data to model\n",
        "\thistory = model.fit(inputs[train], targets[train], batch_size=batch_size, epochs=no_epochs, verbose=verbosity, validation_split=validation_split)\n",
        "\thistories.append(history)\n",
        "\tmodel_history.append(model)\n",
        "\t# Generate generalization metrics\n",
        "\tscores = model.evaluate(inputs[test], targets[test], verbose=0)\n",
        "\tprint(f'Score for fold {fold_no}: {model.metrics_names[0]} of {scores[0]}; {model.metrics_names[1]} of {scores[1]*100}%')\n",
        "\tacc_per_fold.append(scores[1] * 100)\n",
        "\tloss_per_fold.append(scores[0])\n",
        "\t# Increase fold number\n",
        "\tfold_no = fold_no + 1\n",
        "\t# == Provide average scores ==\n",
        "\tprint('------------------------------')\n",
        "\tprint('Score per fold')\n",
        "for i in range(0, len(acc_per_fold)):\n",
        "\tprint('------------------------------')\n",
        "\tprint(f'> Fold {i+1} - Loss: {loss_per_fold[i]} - Accuracy: {acc_per_fold[i]}%')\n",
        "\tprint('------------------------------')\n",
        "print('Average scores for all folds:')\n",
        "print(f'> Accuracy: {np.mean(acc_per_fold)} (+- {np.std(acc_per_fold)})')\n",
        "print(f'> Loss: {np.mean(loss_per_fold)}')\n",
        "print('-------------------------------')"
      ],
      "execution_count": 11,
      "outputs": [
        {
          "output_type": "stream",
          "text": [
            "Train on 257 samples, validate on 172 samples\n",
            "Epoch 1/10\n",
            "257/257 [==============================] - 26s 102ms/step - loss: 1.0505 - accuracy: 0.5331 - val_loss: 0.9217 - val_accuracy: 0.5640\n",
            "Epoch 2/10\n",
            "257/257 [==============================] - 22s 84ms/step - loss: 0.6815 - accuracy: 0.7082 - val_loss: 0.9235 - val_accuracy: 0.4651\n",
            "Epoch 3/10\n",
            "257/257 [==============================] - 21s 83ms/step - loss: 0.5282 - accuracy: 0.8210 - val_loss: 0.4924 - val_accuracy: 0.8372\n",
            "Epoch 4/10\n",
            "257/257 [==============================] - 21s 83ms/step - loss: 0.3554 - accuracy: 0.9183 - val_loss: 0.4095 - val_accuracy: 0.8547\n",
            "Epoch 5/10\n",
            "257/257 [==============================] - 22s 84ms/step - loss: 0.2970 - accuracy: 0.9300 - val_loss: 0.3761 - val_accuracy: 0.8837\n",
            "Epoch 6/10\n",
            "257/257 [==============================] - 21s 83ms/step - loss: 0.2423 - accuracy: 0.9377 - val_loss: 0.3607 - val_accuracy: 0.8605\n",
            "Epoch 7/10\n",
            "257/257 [==============================] - 21s 83ms/step - loss: 0.2210 - accuracy: 0.9494 - val_loss: 0.3070 - val_accuracy: 0.9186\n",
            "Epoch 8/10\n",
            "257/257 [==============================] - 21s 83ms/step - loss: 0.1855 - accuracy: 0.9844 - val_loss: 0.2865 - val_accuracy: 0.9302\n",
            "Epoch 9/10\n",
            "257/257 [==============================] - 21s 83ms/step - loss: 0.1781 - accuracy: 0.9689 - val_loss: 0.2736 - val_accuracy: 0.9186\n",
            "Epoch 10/10\n",
            "257/257 [==============================] - 21s 83ms/step - loss: 0.1454 - accuracy: 0.9805 - val_loss: 0.2496 - val_accuracy: 0.9186\n",
            "Score for fold 1: loss of 0.28263633891388223; accuracy of 89.81481194496155%\n",
            "------------------------------\n",
            "Score per fold\n",
            "Train on 257 samples, validate on 172 samples\n",
            "Epoch 1/10\n",
            "257/257 [==============================] - 22s 84ms/step - loss: 0.9635 - accuracy: 0.5953 - val_loss: 0.6958 - val_accuracy: 0.7209\n",
            "Epoch 2/10\n",
            "257/257 [==============================] - 21s 83ms/step - loss: 0.5110 - accuracy: 0.8366 - val_loss: 0.7992 - val_accuracy: 0.5523\n",
            "Epoch 3/10\n",
            "257/257 [==============================] - 21s 83ms/step - loss: 0.3640 - accuracy: 0.8794 - val_loss: 0.3333 - val_accuracy: 0.9012\n",
            "Epoch 4/10\n",
            "257/257 [==============================] - 21s 83ms/step - loss: 0.2393 - accuracy: 0.9377 - val_loss: 0.4564 - val_accuracy: 0.8198\n",
            "Epoch 5/10\n",
            "257/257 [==============================] - 21s 83ms/step - loss: 0.2172 - accuracy: 0.9339 - val_loss: 0.2638 - val_accuracy: 0.9186\n",
            "Epoch 6/10\n",
            "257/257 [==============================] - 21s 82ms/step - loss: 0.1691 - accuracy: 0.9728 - val_loss: 0.2738 - val_accuracy: 0.9302\n",
            "Epoch 7/10\n",
            "257/257 [==============================] - 21s 83ms/step - loss: 0.1485 - accuracy: 0.9650 - val_loss: 0.2475 - val_accuracy: 0.9360\n",
            "Epoch 8/10\n",
            "257/257 [==============================] - 21s 83ms/step - loss: 0.1049 - accuracy: 0.9883 - val_loss: 0.2481 - val_accuracy: 0.9360\n",
            "Epoch 9/10\n",
            "257/257 [==============================] - 21s 84ms/step - loss: 0.1010 - accuracy: 0.9883 - val_loss: 0.2249 - val_accuracy: 0.9360\n",
            "Epoch 10/10\n",
            "257/257 [==============================] - 21s 83ms/step - loss: 0.0804 - accuracy: 0.9844 - val_loss: 0.2133 - val_accuracy: 0.9360\n",
            "Score for fold 2: loss of 0.19751828688162346; accuracy of 94.44444179534912%\n",
            "------------------------------\n",
            "Score per fold\n",
            "Train on 258 samples, validate on 172 samples\n",
            "Epoch 1/10\n",
            "258/258 [==============================] - 22s 85ms/step - loss: 1.1126 - accuracy: 0.5620 - val_loss: 0.9555 - val_accuracy: 0.5872\n",
            "Epoch 2/10\n",
            "258/258 [==============================] - 21s 83ms/step - loss: 0.6647 - accuracy: 0.7674 - val_loss: 0.5512 - val_accuracy: 0.7733\n",
            "Epoch 3/10\n",
            "258/258 [==============================] - 22s 84ms/step - loss: 0.4518 - accuracy: 0.8798 - val_loss: 0.4813 - val_accuracy: 0.8372\n",
            "Epoch 4/10\n",
            "258/258 [==============================] - 22s 84ms/step - loss: 0.3701 - accuracy: 0.9109 - val_loss: 0.3439 - val_accuracy: 0.9244\n",
            "Epoch 5/10\n",
            "258/258 [==============================] - 22s 84ms/step - loss: 0.2670 - accuracy: 0.9302 - val_loss: 0.3787 - val_accuracy: 0.8663\n",
            "Epoch 6/10\n",
            "258/258 [==============================] - 22s 84ms/step - loss: 0.2307 - accuracy: 0.9496 - val_loss: 0.2581 - val_accuracy: 0.9070\n",
            "Epoch 7/10\n",
            "258/258 [==============================] - 22s 84ms/step - loss: 0.1818 - accuracy: 0.9612 - val_loss: 0.2387 - val_accuracy: 0.9186\n",
            "Epoch 8/10\n",
            "258/258 [==============================] - 22s 84ms/step - loss: 0.1648 - accuracy: 0.9651 - val_loss: 0.2403 - val_accuracy: 0.9302\n",
            "Epoch 9/10\n",
            "258/258 [==============================] - 24s 95ms/step - loss: 0.1565 - accuracy: 0.9457 - val_loss: 0.2168 - val_accuracy: 0.9302\n",
            "Epoch 10/10\n",
            "258/258 [==============================] - 22s 83ms/step - loss: 0.1508 - accuracy: 0.9651 - val_loss: 0.3843 - val_accuracy: 0.8547\n",
            "Score for fold 3: loss of 0.4127150519498598; accuracy of 85.98130941390991%\n",
            "------------------------------\n",
            "Score per fold\n",
            "Train on 258 samples, validate on 172 samples\n",
            "Epoch 1/10\n",
            "258/258 [==============================] - 22s 84ms/step - loss: 1.0652 - accuracy: 0.5426 - val_loss: 0.8287 - val_accuracy: 0.6221\n",
            "Epoch 2/10\n",
            "258/258 [==============================] - 21s 83ms/step - loss: 0.6444 - accuracy: 0.7791 - val_loss: 0.5859 - val_accuracy: 0.7849\n",
            "Epoch 3/10\n",
            "258/258 [==============================] - 22s 85ms/step - loss: 0.4649 - accuracy: 0.8527 - val_loss: 0.4487 - val_accuracy: 0.8372\n",
            "Epoch 4/10\n",
            "258/258 [==============================] - 22s 84ms/step - loss: 0.3276 - accuracy: 0.9225 - val_loss: 0.3633 - val_accuracy: 0.8953\n",
            "Epoch 5/10\n",
            "258/258 [==============================] - 22s 84ms/step - loss: 0.2670 - accuracy: 0.9574 - val_loss: 0.3412 - val_accuracy: 0.8953\n",
            "Epoch 6/10\n",
            "258/258 [==============================] - 22s 84ms/step - loss: 0.2388 - accuracy: 0.9419 - val_loss: 0.3068 - val_accuracy: 0.9128\n",
            "Epoch 7/10\n",
            "258/258 [==============================] - 21s 83ms/step - loss: 0.1800 - accuracy: 0.9690 - val_loss: 0.2784 - val_accuracy: 0.9128\n",
            "Epoch 8/10\n",
            "258/258 [==============================] - 22s 84ms/step - loss: 0.1574 - accuracy: 0.9690 - val_loss: 0.2766 - val_accuracy: 0.9128\n",
            "Epoch 9/10\n",
            "258/258 [==============================] - 22s 83ms/step - loss: 0.1343 - accuracy: 0.9806 - val_loss: 0.2766 - val_accuracy: 0.9128\n",
            "Epoch 10/10\n",
            "258/258 [==============================] - 21s 83ms/step - loss: 0.1261 - accuracy: 0.9767 - val_loss: 0.2889 - val_accuracy: 0.9128\n",
            "Score for fold 4: loss of 0.22515152130171517; accuracy of 94.39252614974976%\n",
            "------------------------------\n",
            "Score per fold\n",
            "Train on 258 samples, validate on 172 samples\n",
            "Epoch 1/10\n",
            "258/258 [==============================] - 22s 85ms/step - loss: 1.0512 - accuracy: 0.5465 - val_loss: 0.7596 - val_accuracy: 0.8488\n",
            "Epoch 2/10\n",
            "258/258 [==============================] - 22s 83ms/step - loss: 0.6457 - accuracy: 0.8101 - val_loss: 0.5605 - val_accuracy: 0.7674\n",
            "Epoch 3/10\n",
            "258/258 [==============================] - 21s 83ms/step - loss: 0.4450 - accuracy: 0.8992 - val_loss: 0.3919 - val_accuracy: 0.8953\n",
            "Epoch 4/10\n",
            "258/258 [==============================] - 22s 83ms/step - loss: 0.3413 - accuracy: 0.9147 - val_loss: 0.3906 - val_accuracy: 0.8721\n",
            "Epoch 5/10\n",
            "258/258 [==============================] - 22s 84ms/step - loss: 0.2820 - accuracy: 0.9419 - val_loss: 0.2860 - val_accuracy: 0.9360\n",
            "Epoch 6/10\n",
            "258/258 [==============================] - 22s 84ms/step - loss: 0.2304 - accuracy: 0.9535 - val_loss: 0.2597 - val_accuracy: 0.9302\n",
            "Epoch 7/10\n",
            "258/258 [==============================] - 21s 83ms/step - loss: 0.2029 - accuracy: 0.9651 - val_loss: 0.2868 - val_accuracy: 0.9128\n",
            "Epoch 8/10\n",
            "258/258 [==============================] - 21s 83ms/step - loss: 0.2046 - accuracy: 0.9457 - val_loss: 0.2160 - val_accuracy: 0.9419\n",
            "Epoch 9/10\n",
            "258/258 [==============================] - 21s 83ms/step - loss: 0.1499 - accuracy: 0.9767 - val_loss: 0.2053 - val_accuracy: 0.9419\n",
            "Epoch 10/10\n",
            "258/258 [==============================] - 21s 82ms/step - loss: 0.1337 - accuracy: 0.9690 - val_loss: 0.2040 - val_accuracy: 0.9360\n",
            "Score for fold 5: loss of 0.22578280607116558; accuracy of 91.58878326416016%\n",
            "------------------------------\n",
            "Score per fold\n",
            "------------------------------\n",
            "> Fold 1 - Loss: 0.28263633891388223 - Accuracy: 89.81481194496155%\n",
            "------------------------------\n",
            "------------------------------\n",
            "> Fold 2 - Loss: 0.19751828688162346 - Accuracy: 94.44444179534912%\n",
            "------------------------------\n",
            "------------------------------\n",
            "> Fold 3 - Loss: 0.4127150519498598 - Accuracy: 85.98130941390991%\n",
            "------------------------------\n",
            "------------------------------\n",
            "> Fold 4 - Loss: 0.22515152130171517 - Accuracy: 94.39252614974976%\n",
            "------------------------------\n",
            "------------------------------\n",
            "> Fold 5 - Loss: 0.22578280607116558 - Accuracy: 91.58878326416016%\n",
            "------------------------------\n",
            "Average scores for all folds:\n",
            "> Accuracy: 91.2443745136261 (+- 3.1627016963540524)\n",
            "> Loss: 0.26876080102364924\n",
            "-------------------------------\n"
          ],
          "name": "stdout"
        }
      ]
    },
    {
      "cell_type": "markdown",
      "metadata": {
        "id": "jx3ZdXp4oA7r",
        "colab_type": "text"
      },
      "source": [
        "The model is now sufficently trained - the plotting routines listed below are just some examples of how the model can be tested and results plotted.\n",
        "\n",
        "First, the results from the cross-validation are plotted."
      ]
    },
    {
      "cell_type": "code",
      "metadata": {
        "id": "Nqc_fOo6pMXh",
        "colab_type": "code",
        "colab": {
          "base_uri": "https://localhost:8080/",
          "height": 383
        },
        "outputId": "da0f14b9-0157-44fa-f323-11ed4223fd50"
      },
      "source": [
        " for i in range(len(histories)):\n",
        "     # plot loss\n",
        "     plt.subplot(211)\n",
        "     plt.title('Cross Entropy Loss')\n",
        "     plt.plot(range(1, 11), histories[i].history['loss'], color='blue', label='train')\n",
        "     plt.plot(range(1, 11), histories[i].history['val_loss'],color='orange', label='validation')\n",
        "     plt.xlabel('Epoch')\n",
        "     plt.ylabel('Loss')\n",
        "     if i==0:\n",
        "         plt.legend()\n",
        "     # plot accuracy\n",
        "     plt.subplot(212)\n",
        "     plt.title('Classification Accuracy')\n",
        "     plt.plot(range(1, 11), histories[i].history['accuracy'], color='blue', label='train')\n",
        "     plt.plot(range(1, 11), histories[i].history['val_accuracy'], color='orange', label='validation')\n",
        "     plt.xlabel('Epoch')\n",
        "     plt.ylabel('Accuracy')\n",
        "     if i ==0:\n",
        "         plt.legend()\n",
        "plt.subplots_adjust(hspace = 0.6)"
      ],
      "execution_count": 20,
      "outputs": [
        {
          "output_type": "stream",
          "text": [
            "/usr/local/lib/python3.6/dist-packages/ipykernel_launcher.py:3: MatplotlibDeprecationWarning: Adding an axes using the same arguments as a previous axes currently reuses the earlier instance.  In a future version, a new instance will always be created and returned.  Meanwhile, this warning can be suppressed, and the future behavior ensured, by passing a unique label to each axes instance.\n",
            "  This is separate from the ipykernel package so we can avoid doing imports until\n",
            "/usr/local/lib/python3.6/dist-packages/ipykernel_launcher.py:12: MatplotlibDeprecationWarning: Adding an axes using the same arguments as a previous axes currently reuses the earlier instance.  In a future version, a new instance will always be created and returned.  Meanwhile, this warning can be suppressed, and the future behavior ensured, by passing a unique label to each axes instance.\n",
            "  if sys.path[0] == '':\n"
          ],
          "name": "stderr"
        },
        {
          "output_type": "display_data",
          "data": {
            "image/png": "[encoded data removed]",
            "text/plain": [
              "<Figure size 432x288 with 2 Axes>"
            ]
          },
          "metadata": {
            "tags": [],
            "needs_background": "light"
          }
        }
      ]
    },
    {
      "cell_type": "markdown",
      "metadata": {
        "id": "9oLyjJyVufPm",
        "colab_type": "text"
      },
      "source": [
        "A confusion matrix using the test data set is created below. "
      ]
    },
    {
      "cell_type": "code",
      "metadata": {
        "id": "T1PfopfJt69j",
        "colab_type": "code",
        "colab": {
          "base_uri": "https://localhost:8080/",
          "height": 312
        },
        "outputId": "12f7a1b1-e4b5-4b44-8a40-0003bd2a9f95"
      },
      "source": [
        "#test trained model.\n",
        "testout = model.predict(input_test)\n",
        "\n",
        "matrix = sklearn.metrics.confusion_matrix(testout.argmax(axis=1), np.array(target_test))\n",
        "normmatrix = matrix.astype('float') / matrix.sum(axis=1)[:, np.newaxis]\n",
        "\n",
        "classes = ['background', '2 ribbon', 'limb', 'compact']\n",
        "df_cm = pd.DataFrame(normmatrix, index = classes,columns = classes)\n",
        "ax= plt.subplot()\n",
        "sn.heatmap(df_cm, annot=True)\n",
        "ax.set_ylim(len(matrix), -0.5)\n",
        "plt.title('Confusion Matrix')\n",
        "plt.xlabel('Predicted Class')\n",
        "plt.ylabel('True Class')\n",
        "\n"
      ],
      "execution_count": 23,
      "outputs": [
        {
          "output_type": "execute_result",
          "data": {
            "text/plain": [
              "Text(33.0, 0.5, 'True Class')"
            ]
          },
          "metadata": {
            "tags": []
          },
          "execution_count": 23
        },
        {
          "output_type": "display_data",
          "data": {
            "image/png": "[encoded data removed]",
            "text/plain": [
              "<Figure size 432x288 with 2 Axes>"
            ]
          },
          "metadata": {
            "tags": [],
            "needs_background": "light"
          }
        }
      ]
    }
  ]
}